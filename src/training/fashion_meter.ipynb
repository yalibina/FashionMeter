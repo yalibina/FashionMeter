{
  "nbformat": 4,
  "nbformat_minor": 0,
  "metadata": {
    "colab": {
      "provenance": [],
      "gpuType": "T4"
    },
    "kernelspec": {
      "name": "python3",
      "display_name": "Python 3"
    },
    "language_info": {
      "name": "python"
    },
    "accelerator": "GPU"
  },
  "cells": [
    {
      "cell_type": "code",
      "execution_count": 1,
      "metadata": {
        "id": "g__dyazuiZqS",
        "colab": {
          "base_uri": "https://localhost:8080/"
        },
        "outputId": "cf8c5221-de38-4259-b1ca-d9a0169e86ad"
      },
      "outputs": [
        {
          "output_type": "stream",
          "name": "stdout",
          "text": [
            "Mounted at /content/drive\n"
          ]
        }
      ],
      "source": [
        "from google.colab import drive\n",
        "drive.mount('/content/drive')"
      ]
    },
    {
      "cell_type": "code",
      "source": [
        "import zipfile\n",
        "\n",
        "# Path to the zip file\n",
        "zip_path = '/content/drive/MyDrive/mmls_data.zip'\n",
        "\n",
        "# Directory to extract the files to\n",
        "extract_to = '/content/data/'\n",
        "\n",
        "# Unzip the file\n",
        "with zipfile.ZipFile(zip_path, 'r') as zip_ref:\n",
        "    zip_ref.extractall(extract_to)\n",
        "\n",
        "print(f\"Files extracted to {extract_to}\")"
      ],
      "metadata": {
        "colab": {
          "base_uri": "https://localhost:8080/"
        },
        "id": "YixMiM3taPdJ",
        "outputId": "b12ee1a3-9a60-4706-e9ad-933e4c7d0f75"
      },
      "execution_count": 2,
      "outputs": [
        {
          "output_type": "stream",
          "name": "stdout",
          "text": [
            "Files extracted to /content/data/\n"
          ]
        }
      ]
    },
    {
      "cell_type": "code",
      "source": [
        "import torch\n",
        "from torchvision.datasets import ImageFolder\n",
        "from torch.utils.data import random_split\n",
        "from transformers import ViTImageProcessor, ViTForImageClassification, TrainingArguments, Trainer\n",
        "from torch import nn\n",
        "import numpy as np\n",
        "from sklearn.utils.class_weight import compute_class_weight\n",
        "from sklearn.metrics import f1_score, fbeta_score\n",
        "import wandb\n"
      ],
      "metadata": {
        "id": "vBctHVPHarRr"
      },
      "execution_count": 3,
      "outputs": []
    },
    {
      "cell_type": "code",
      "source": [
        "wandb.init(project=\"fashion_net\")"
      ],
      "metadata": {
        "colab": {
          "base_uri": "https://localhost:8080/",
          "height": 247
        },
        "id": "u2efyJwC-VFm",
        "outputId": "e1bc2ac1-e453-455c-94c7-b962ec73ed0e"
      },
      "execution_count": 3,
      "outputs": [
        {
          "output_type": "stream",
          "name": "stderr",
          "text": [
            "\u001b[34m\u001b[1mwandb\u001b[0m: Using wandb-core as the SDK backend.  Please refer to https://wandb.me/wandb-core for more information.\n"
          ]
        },
        {
          "output_type": "display_data",
          "data": {
            "text/plain": [
              "<IPython.core.display.Javascript object>"
            ],
            "application/javascript": [
              "\n",
              "        window._wandbApiKey = new Promise((resolve, reject) => {\n",
              "            function loadScript(url) {\n",
              "            return new Promise(function(resolve, reject) {\n",
              "                let newScript = document.createElement(\"script\");\n",
              "                newScript.onerror = reject;\n",
              "                newScript.onload = resolve;\n",
              "                document.body.appendChild(newScript);\n",
              "                newScript.src = url;\n",
              "            });\n",
              "            }\n",
              "            loadScript(\"https://cdn.jsdelivr.net/npm/postmate/build/postmate.min.js\").then(() => {\n",
              "            const iframe = document.createElement('iframe')\n",
              "            iframe.style.cssText = \"width:0;height:0;border:none\"\n",
              "            document.body.appendChild(iframe)\n",
              "            const handshake = new Postmate({\n",
              "                container: iframe,\n",
              "                url: 'https://wandb.ai/authorize'\n",
              "            });\n",
              "            const timeout = setTimeout(() => reject(\"Couldn't auto authenticate\"), 5000)\n",
              "            handshake.then(function(child) {\n",
              "                child.on('authorize', data => {\n",
              "                    clearTimeout(timeout)\n",
              "                    resolve(data)\n",
              "                });\n",
              "            });\n",
              "            })\n",
              "        });\n",
              "    "
            ]
          },
          "metadata": {}
        },
        {
          "output_type": "stream",
          "name": "stderr",
          "text": [
            "\u001b[34m\u001b[1mwandb\u001b[0m: \u001b[33mWARNING\u001b[0m If you're specifying your api key in code, ensure this code is not shared publicly.\n",
            "\u001b[34m\u001b[1mwandb\u001b[0m: \u001b[33mWARNING\u001b[0m Consider setting the WANDB_API_KEY environment variable, or running `wandb login` from the command line.\n",
            "\u001b[34m\u001b[1mwandb\u001b[0m: No netrc file found, creating one.\n",
            "\u001b[34m\u001b[1mwandb\u001b[0m: Appending key for api.wandb.ai to your netrc file: /root/.netrc\n",
            "\u001b[34m\u001b[1mwandb\u001b[0m: Currently logged in as: \u001b[33mpoliakovva0\u001b[0m (\u001b[33mpoliakovva0-hse-university\u001b[0m) to \u001b[32mhttps://api.wandb.ai\u001b[0m. Use \u001b[1m`wandb login --relogin`\u001b[0m to force relogin\n"
          ]
        },
        {
          "output_type": "display_data",
          "data": {
            "text/plain": [
              "<IPython.core.display.HTML object>"
            ],
            "text/html": [
              "Tracking run with wandb version 0.19.8"
            ]
          },
          "metadata": {}
        },
        {
          "output_type": "display_data",
          "data": {
            "text/plain": [
              "<IPython.core.display.HTML object>"
            ],
            "text/html": [
              "Run data is saved locally in <code>/content/wandb/run-20250318_112519-v66953kf</code>"
            ]
          },
          "metadata": {}
        },
        {
          "output_type": "display_data",
          "data": {
            "text/plain": [
              "<IPython.core.display.HTML object>"
            ],
            "text/html": [
              "Syncing run <strong><a href='https://wandb.ai/poliakovva0-hse-university/fashion_net/runs/v66953kf' target=\"_blank\">vivid-pyramid-1</a></strong> to <a href='https://wandb.ai/poliakovva0-hse-university/fashion_net' target=\"_blank\">Weights & Biases</a> (<a href='https://wandb.me/developer-guide' target=\"_blank\">docs</a>)<br>"
            ]
          },
          "metadata": {}
        },
        {
          "output_type": "display_data",
          "data": {
            "text/plain": [
              "<IPython.core.display.HTML object>"
            ],
            "text/html": [
              " View project at <a href='https://wandb.ai/poliakovva0-hse-university/fashion_net' target=\"_blank\">https://wandb.ai/poliakovva0-hse-university/fashion_net</a>"
            ]
          },
          "metadata": {}
        },
        {
          "output_type": "display_data",
          "data": {
            "text/plain": [
              "<IPython.core.display.HTML object>"
            ],
            "text/html": [
              " View run at <a href='https://wandb.ai/poliakovva0-hse-university/fashion_net/runs/v66953kf' target=\"_blank\">https://wandb.ai/poliakovva0-hse-university/fashion_net/runs/v66953kf</a>"
            ]
          },
          "metadata": {}
        },
        {
          "output_type": "execute_result",
          "data": {
            "text/html": [
              "<button onClick=\"this.nextSibling.style.display='block';this.style.display='none';\">Display W&B run</button><iframe src='https://wandb.ai/poliakovva0-hse-university/fashion_net/runs/v66953kf?jupyter=true' style='border:none;width:100%;height:420px;display:none;'></iframe>"
            ],
            "text/plain": [
              "<wandb.sdk.wandb_run.Run at 0x7f537da52b90>"
            ]
          },
          "metadata": {},
          "execution_count": 3
        }
      ]
    },
    {
      "cell_type": "code",
      "source": [
        "dataset = ImageFolder(root='data/downloaded_images')\n"
      ],
      "metadata": {
        "id": "Xhye2vSSaxGd"
      },
      "execution_count": 4,
      "outputs": []
    },
    {
      "cell_type": "code",
      "source": [
        "train_size = int(0.8 * len(dataset))\n",
        "val_size = len(dataset) - train_size\n",
        "train_subset, val_subset = random_split(dataset, [train_size, val_size])\n"
      ],
      "metadata": {
        "id": "1OtTdOeWa43Z"
      },
      "execution_count": 5,
      "outputs": []
    },
    {
      "cell_type": "code",
      "source": [
        "train_labels = [dataset.targets[i] for i in train_subset.indices]\n",
        "class_weights = compute_class_weight('balanced', classes=np.unique(train_labels), y=train_labels)\n",
        "class_weights = torch.tensor(class_weights, dtype=torch.float32)"
      ],
      "metadata": {
        "id": "otJuOs0ta8y0"
      },
      "execution_count": 25,
      "outputs": []
    },
    {
      "cell_type": "code",
      "source": [
        "class WrapDataset(torch.utils.data.Dataset):\n",
        "    def __init__(self, subset):\n",
        "        self.subset = subset\n",
        "\n",
        "    def __len__(self):\n",
        "        return len(self.subset)\n",
        "\n",
        "    def __getitem__(self, idx):\n",
        "        image, label = self.subset[idx]\n",
        "        return {'image': image, 'label': label}"
      ],
      "metadata": {
        "id": "lZu4cGbRbBPy"
      },
      "execution_count": 26,
      "outputs": []
    },
    {
      "cell_type": "code",
      "source": [
        "train_dataset = WrapDataset(train_subset)\n",
        "val_dataset = WrapDataset(val_subset)"
      ],
      "metadata": {
        "id": "kL78nRcSbEoL"
      },
      "execution_count": 27,
      "outputs": []
    },
    {
      "cell_type": "code",
      "source": [
        "feature_extractor = ViTImageProcessor.from_pretrained('google/vit-base-patch16-224-in21k')\n"
      ],
      "metadata": {
        "id": "Y90ZhuM2bGcZ"
      },
      "execution_count": 28,
      "outputs": []
    },
    {
      "cell_type": "code",
      "source": [
        "def collate_fn(batch):\n",
        "    images = [item['image'] for item in batch]\n",
        "    labels = [item['label'] for item in batch]\n",
        "    inputs = feature_extractor(images=images, return_tensors='pt')\n",
        "    inputs['labels'] = torch.tensor(labels)\n",
        "    return inputs"
      ],
      "metadata": {
        "id": "tAYKeEFhbHzU"
      },
      "execution_count": 29,
      "outputs": []
    },
    {
      "cell_type": "code",
      "source": [
        "model = ViTForImageClassification.from_pretrained(\n",
        "    'google/vit-base-patch16-224-in21k',\n",
        "    num_labels=len(dataset.classes),\n",
        "    ignore_mismatched_sizes=True\n",
        ")\n"
      ],
      "metadata": {
        "colab": {
          "base_uri": "https://localhost:8080/"
        },
        "id": "eITpRY3tbKWY",
        "outputId": "01aab1d2-ef47-4ee9-fd8d-68370cd067e5"
      },
      "execution_count": 30,
      "outputs": [
        {
          "output_type": "stream",
          "name": "stderr",
          "text": [
            "Some weights of ViTForImageClassification were not initialized from the model checkpoint at google/vit-base-patch16-224-in21k and are newly initialized: ['classifier.bias', 'classifier.weight']\n",
            "You should probably TRAIN this model on a down-stream task to be able to use it for predictions and inference.\n"
          ]
        }
      ]
    },
    {
      "cell_type": "code",
      "source": [
        "training_args = TrainingArguments(\n",
        "    output_dir='./results',\n",
        "    per_device_train_batch_size=8,\n",
        "    per_device_eval_batch_size=8,\n",
        "    num_train_epochs=10,\n",
        "    eval_strategy='epoch',\n",
        "    save_strategy='epoch',\n",
        "    logging_steps=10,\n",
        "    logging_dir='./logs',\n",
        "    learning_rate=2e-4,\n",
        "    weight_decay=0.01,\n",
        "    gradient_accumulation_steps=2,\n",
        "    fp16=True,\n",
        "    remove_unused_columns=False,\n",
        "    load_best_model_at_end=True,\n",
        "    report_to=\"wandb\",\n",
        ")"
      ],
      "metadata": {
        "id": "WVTlSv0LbL60"
      },
      "execution_count": 31,
      "outputs": []
    },
    {
      "cell_type": "code",
      "source": [
        "class CustomTrainer(Trainer):\n",
        "    def compute_loss(self, model, inputs, return_outputs=False, **kwargs):\n",
        "        labels = inputs.pop(\"labels\")\n",
        "        outputs = model(**inputs)\n",
        "        logits = outputs.logits\n",
        "        loss_fct = nn.CrossEntropyLoss(weight=class_weights.to(logits.device))\n",
        "        loss = loss_fct(logits.view(-1, model.config.num_labels), labels.view(-1))\n",
        "        return (loss, outputs) if return_outputs else loss"
      ],
      "metadata": {
        "id": "jEZGyPCpbP6p"
      },
      "execution_count": 32,
      "outputs": []
    },
    {
      "cell_type": "code",
      "source": [
        "\n",
        "def compute_metrics(p):\n",
        "    predictions, labels = p\n",
        "    predictions = np.argmax(predictions, axis=1)\n",
        "\n",
        "    f1 = f1_score(labels, predictions, average='macro')\n",
        "\n",
        "    beta = 0.5\n",
        "    f_beta = fbeta_score(labels, predictions, beta=beta, average='macro')\n",
        "\n",
        "    return {\n",
        "        'accuracy': np.mean(predictions == labels),\n",
        "        'f1': f1,\n",
        "        f'f{beta}': f_beta,\n",
        "    }"
      ],
      "metadata": {
        "id": "H4sQyn5XbT-R"
      },
      "execution_count": 33,
      "outputs": []
    },
    {
      "cell_type": "code",
      "source": [
        "trainer = CustomTrainer(\n",
        "    model=model,\n",
        "    args=training_args,\n",
        "    data_collator=collate_fn,\n",
        "    train_dataset=train_dataset,\n",
        "    eval_dataset=val_dataset,\n",
        "    compute_metrics=compute_metrics,\n",
        ")"
      ],
      "metadata": {
        "id": "0GGFv1YtbR94"
      },
      "execution_count": 34,
      "outputs": []
    },
    {
      "cell_type": "code",
      "source": [],
      "metadata": {
        "id": "JN7F4AQ2-TWa"
      },
      "execution_count": 34,
      "outputs": []
    },
    {
      "cell_type": "code",
      "source": [
        "trainer.can_return_loss = True\n",
        "trainer.train()\n"
      ],
      "metadata": {
        "colab": {
          "base_uri": "https://localhost:8080/",
          "height": 479
        },
        "id": "ardzushTbXvR",
        "outputId": "2da15c07-f623-488d-9870-a768bff5dbbd"
      },
      "execution_count": 35,
      "outputs": [
        {
          "output_type": "display_data",
          "data": {
            "text/plain": [
              "<IPython.core.display.HTML object>"
            ],
            "text/html": [
              "Tracking run with wandb version 0.19.8"
            ]
          },
          "metadata": {}
        },
        {
          "output_type": "display_data",
          "data": {
            "text/plain": [
              "<IPython.core.display.HTML object>"
            ],
            "text/html": [
              "Run data is saved locally in <code>/content/wandb/run-20250318_115115-r993mwe5</code>"
            ]
          },
          "metadata": {}
        },
        {
          "output_type": "display_data",
          "data": {
            "text/plain": [
              "<IPython.core.display.HTML object>"
            ],
            "text/html": [
              "Syncing run <strong><a href='https://wandb.ai/poliakovva0-hse-university/huggingface/runs/r993mwe5' target=\"_blank\">./results</a></strong> to <a href='https://wandb.ai/poliakovva0-hse-university/huggingface' target=\"_blank\">Weights & Biases</a> (<a href='https://wandb.me/developer-guide' target=\"_blank\">docs</a>)<br>"
            ]
          },
          "metadata": {}
        },
        {
          "output_type": "display_data",
          "data": {
            "text/plain": [
              "<IPython.core.display.HTML object>"
            ],
            "text/html": [
              " View project at <a href='https://wandb.ai/poliakovva0-hse-university/huggingface' target=\"_blank\">https://wandb.ai/poliakovva0-hse-university/huggingface</a>"
            ]
          },
          "metadata": {}
        },
        {
          "output_type": "display_data",
          "data": {
            "text/plain": [
              "<IPython.core.display.HTML object>"
            ],
            "text/html": [
              " View run at <a href='https://wandb.ai/poliakovva0-hse-university/huggingface/runs/r993mwe5' target=\"_blank\">https://wandb.ai/poliakovva0-hse-university/huggingface/runs/r993mwe5</a>"
            ]
          },
          "metadata": {}
        },
        {
          "output_type": "display_data",
          "data": {
            "text/plain": [
              "<IPython.core.display.HTML object>"
            ],
            "text/html": [
              "\n",
              "    <div>\n",
              "      \n",
              "      <progress value='1500' max='1500' style='width:300px; height:20px; vertical-align: middle;'></progress>\n",
              "      [1500/1500 17:49, Epoch 9/10]\n",
              "    </div>\n",
              "    <table border=\"1\" class=\"dataframe\">\n",
              "  <thead>\n",
              " <tr style=\"text-align: left;\">\n",
              "      <th>Epoch</th>\n",
              "      <th>Training Loss</th>\n",
              "      <th>Validation Loss</th>\n",
              "      <th>Accuracy</th>\n",
              "      <th>F1</th>\n",
              "      <th>F0.5</th>\n",
              "    </tr>\n",
              "  </thead>\n",
              "  <tbody>\n",
              "    <tr>\n",
              "      <td>1</td>\n",
              "      <td>0.898700</td>\n",
              "      <td>0.945055</td>\n",
              "      <td>0.727121</td>\n",
              "      <td>0.731555</td>\n",
              "      <td>0.746833</td>\n",
              "    </tr>\n",
              "    <tr>\n",
              "      <td>2</td>\n",
              "      <td>0.492400</td>\n",
              "      <td>0.714329</td>\n",
              "      <td>0.785358</td>\n",
              "      <td>0.787071</td>\n",
              "      <td>0.802285</td>\n",
              "    </tr>\n",
              "    <tr>\n",
              "      <td>3</td>\n",
              "      <td>0.093800</td>\n",
              "      <td>0.820360</td>\n",
              "      <td>0.757072</td>\n",
              "      <td>0.755549</td>\n",
              "      <td>0.764196</td>\n",
              "    </tr>\n",
              "    <tr>\n",
              "      <td>4</td>\n",
              "      <td>0.047700</td>\n",
              "      <td>0.776787</td>\n",
              "      <td>0.801997</td>\n",
              "      <td>0.806311</td>\n",
              "      <td>0.817295</td>\n",
              "    </tr>\n",
              "    <tr>\n",
              "      <td>5</td>\n",
              "      <td>0.008400</td>\n",
              "      <td>0.689705</td>\n",
              "      <td>0.823627</td>\n",
              "      <td>0.825495</td>\n",
              "      <td>0.830967</td>\n",
              "    </tr>\n",
              "    <tr>\n",
              "      <td>6</td>\n",
              "      <td>0.005900</td>\n",
              "      <td>0.696174</td>\n",
              "      <td>0.838602</td>\n",
              "      <td>0.841085</td>\n",
              "      <td>0.845353</td>\n",
              "    </tr>\n",
              "    <tr>\n",
              "      <td>7</td>\n",
              "      <td>0.004600</td>\n",
              "      <td>0.711266</td>\n",
              "      <td>0.841930</td>\n",
              "      <td>0.843985</td>\n",
              "      <td>0.847769</td>\n",
              "    </tr>\n",
              "    <tr>\n",
              "      <td>8</td>\n",
              "      <td>0.004000</td>\n",
              "      <td>0.723260</td>\n",
              "      <td>0.843594</td>\n",
              "      <td>0.845957</td>\n",
              "      <td>0.849416</td>\n",
              "    </tr>\n",
              "    <tr>\n",
              "      <td>9</td>\n",
              "      <td>0.003600</td>\n",
              "      <td>0.733591</td>\n",
              "      <td>0.841930</td>\n",
              "      <td>0.844371</td>\n",
              "      <td>0.847641</td>\n",
              "    </tr>\n",
              "  </tbody>\n",
              "</table><p>"
            ]
          },
          "metadata": {}
        },
        {
          "output_type": "execute_result",
          "data": {
            "text/plain": [
              "TrainOutput(global_step=1500, training_loss=0.22005493929237127, metrics={'train_runtime': 1071.9141, 'train_samples_per_second': 22.418, 'train_steps_per_second': 1.399, 'total_flos': 1.8508904764361626e+18, 'train_loss': 0.22005493929237127, 'epoch': 9.93687707641196})"
            ]
          },
          "metadata": {},
          "execution_count": 35
        }
      ]
    },
    {
      "cell_type": "code",
      "source": [
        "model.save_pretrained('./style_classifier')\n",
        "feature_extractor.save_pretrained('./style_classifier')\n",
        "wandb.finish()\n",
        "\n",
        "print(\"Training complete! Model saved to './style_classifier'\")"
      ],
      "metadata": {
        "colab": {
          "base_uri": "https://localhost:8080/",
          "height": 913
        },
        "id": "CfJ1_4-0bcER",
        "outputId": "261656e0-a575-4282-9202-5954a24d9aa6"
      },
      "execution_count": 36,
      "outputs": [
        {
          "output_type": "display_data",
          "data": {
            "text/plain": [
              "<IPython.core.display.HTML object>"
            ],
            "text/html": []
          },
          "metadata": {}
        },
        {
          "output_type": "display_data",
          "data": {
            "text/plain": [
              "<IPython.core.display.HTML object>"
            ],
            "text/html": [
              "<br>    <style><br>        .wandb-row {<br>            display: flex;<br>            flex-direction: row;<br>            flex-wrap: wrap;<br>            justify-content: flex-start;<br>            width: 100%;<br>        }<br>        .wandb-col {<br>            display: flex;<br>            flex-direction: column;<br>            flex-basis: 100%;<br>            flex: 1;<br>            padding: 10px;<br>        }<br>    </style><br><div class=\"wandb-row\"><div class=\"wandb-col\"><h3>Run history:</h3><br/><table class=\"wandb\"><tr><td>eval/accuracy</td><td>▁▄▃▅▇█████</td></tr><tr><td>eval/f0.5</td><td>▁▅▂▆▇█████</td></tr><tr><td>eval/f1</td><td>▁▄▂▆▇█████</td></tr><tr><td>eval/loss</td><td>█▂▅▃▁▁▂▂▂▂</td></tr><tr><td>eval/runtime</td><td>▁▅▁▂█▇▄▂▁▃</td></tr><tr><td>eval/samples_per_second</td><td>█▄█▇▁▂▄▇█▆</td></tr><tr><td>eval/steps_per_second</td><td>█▄█▇▁▂▄▇█▆</td></tr><tr><td>train/epoch</td><td>▁▁▁▁▁▂▂▂▂▂▃▃▃▃▃▄▄▄▄▄▅▅▅▅▅▅▆▆▆▆▆▆▆▇▇▇▇███</td></tr><tr><td>train/global_step</td><td>▁▁▁▁▁▂▂▂▂▂▂▂▂▃▃▄▄▄▄▅▅▅▅▅▆▆▆▆▆▇▇▇▇▇▇▇▇███</td></tr><tr><td>train/grad_norm</td><td>▃▃▅▂▄▅▂▂▁▂▁▄▃▁█▁▁▁▁▁▁▁▁▁▁▁▁▁▁▁▁▁▁▁▁▁▁▁▁▁</td></tr><tr><td>train/learning_rate</td><td>███▇▇▇▇▇▇▇▆▆▆▆▅▅▅▅▅▅▅▅▄▄▄▄▄▃▃▃▂▂▂▂▂▂▂▂▁▁</td></tr><tr><td>train/loss</td><td>█▇▆▅▅▄▃▃▃▃▂▂▁▁▁▁▁▁▁▁▁▁▁▁▁▁▁▁▁▁▁▁▁▁▁▁▁▁▁▁</td></tr></table><br/></div><div class=\"wandb-col\"><h3>Run summary:</h3><br/><table class=\"wandb\"><tr><td>eval/accuracy</td><td>0.84193</td></tr><tr><td>eval/f0.5</td><td>0.84764</td></tr><tr><td>eval/f1</td><td>0.84437</td></tr><tr><td>eval/loss</td><td>0.73359</td></tr><tr><td>eval/runtime</td><td>17.0851</td></tr><tr><td>eval/samples_per_second</td><td>35.177</td></tr><tr><td>eval/steps_per_second</td><td>4.448</td></tr><tr><td>total_flos</td><td>1.8508904764361626e+18</td></tr><tr><td>train/epoch</td><td>9.93688</td></tr><tr><td>train/global_step</td><td>1500</td></tr><tr><td>train/grad_norm</td><td>0.01532</td></tr><tr><td>train/learning_rate</td><td>0</td></tr><tr><td>train/loss</td><td>0.0036</td></tr><tr><td>train_loss</td><td>0.22005</td></tr><tr><td>train_runtime</td><td>1071.9141</td></tr><tr><td>train_samples_per_second</td><td>22.418</td></tr><tr><td>train_steps_per_second</td><td>1.399</td></tr></table><br/></div></div>"
            ]
          },
          "metadata": {}
        },
        {
          "output_type": "display_data",
          "data": {
            "text/plain": [
              "<IPython.core.display.HTML object>"
            ],
            "text/html": [
              " View run <strong style=\"color:#cdcd00\">./results</strong> at: <a href='https://wandb.ai/poliakovva0-hse-university/huggingface/runs/r993mwe5' target=\"_blank\">https://wandb.ai/poliakovva0-hse-university/huggingface/runs/r993mwe5</a><br> View project at: <a href='https://wandb.ai/poliakovva0-hse-university/huggingface' target=\"_blank\">https://wandb.ai/poliakovva0-hse-university/huggingface</a><br>Synced 5 W&B file(s), 0 media file(s), 0 artifact file(s) and 0 other file(s)"
            ]
          },
          "metadata": {}
        },
        {
          "output_type": "display_data",
          "data": {
            "text/plain": [
              "<IPython.core.display.HTML object>"
            ],
            "text/html": [
              "Find logs at: <code>./wandb/run-20250318_115115-r993mwe5/logs</code>"
            ]
          },
          "metadata": {}
        },
        {
          "output_type": "stream",
          "name": "stdout",
          "text": [
            "Training complete! Model saved to './style_classifier'\n"
          ]
        }
      ]
    },
    {
      "cell_type": "code",
      "source": [
        "from PIL import Image\n",
        "\n",
        "\n",
        "# Load model and explicitly cast to float32\n",
        "model = ViTForImageClassification.from_pretrained('./style_classifier').to(torch.float32)\n",
        "feature_extractor = ViTImageProcessor.from_pretrained('./style_classifier')\n",
        "\n",
        "\n",
        "class_names = dataset.classes\n",
        "\n",
        "image = Image.open('test_casual.jpg')\n",
        "inputs = feature_extractor(images=image, return_tensors='pt')\n",
        "outputs = model(**inputs)\n",
        "predicted_class_idx = outputs.logits.argmax(-1).item()\n",
        "\n",
        "predicted_label = class_names[predicted_class_idx]\n",
        "print(f\"Predicted style: {predicted_label}\")"
      ],
      "metadata": {
        "colab": {
          "base_uri": "https://localhost:8080/"
        },
        "id": "ktWm0KlmdXwy",
        "outputId": "c4db6f89-509c-4f3f-b37d-764194467290"
      },
      "execution_count": 37,
      "outputs": [
        {
          "output_type": "stream",
          "name": "stdout",
          "text": [
            "Predicted style: casual\n"
          ]
        }
      ]
    },
    {
      "cell_type": "code",
      "source": [
        "from sklearn.dummy import DummyClassifier\n",
        "from sklearn.metrics import accuracy_score\n",
        "import numpy as np\n",
        "\n",
        "\n",
        "y_train = [dataset.targets[i] for i in train_subset.indices]\n",
        "y_val = [dataset.targets[i] for i in val_subset.indices]\n",
        "\n",
        "dummy = DummyClassifier(strategy='stratified')\n",
        "dummy.fit(None, y_train)  # X is ignored for dummy classifiers\n",
        "\n",
        "y_pred = dummy.predict(y_val)  # Pass any input - it will be ignored\n",
        "\n",
        "def print_metrics(y_true, y_pred):\n",
        "    print(f\"Accuracy: {accuracy_score(y_true, y_pred):.4f}\")\n",
        "    print(f\"Macro F1: {f1_score(y_true, y_pred, average='macro'):.4f}\")\n",
        "    print(f\"Macro F0.5: {fbeta_score(y_true, y_pred, beta=0.5, average='macro'):.4f}\")\n",
        "\n",
        "print(\"Dummy Classifier Performance:\")\n",
        "print_metrics(y_val, y_pred)"
      ],
      "metadata": {
        "id": "GhPS_Ybcf3rq",
        "colab": {
          "base_uri": "https://localhost:8080/"
        },
        "outputId": "2e926822-b541-4144-ea1e-ad0cddd64d39"
      },
      "execution_count": 6,
      "outputs": [
        {
          "output_type": "stream",
          "name": "stdout",
          "text": [
            "Dummy Classifier Performance:\n",
            "Accuracy: 0.0915\n",
            "Macro F1: 0.0884\n",
            "Macro F0.5: 0.0898\n"
          ]
        }
      ]
    },
    {
      "cell_type": "code",
      "source": [],
      "metadata": {
        "id": "mKvCHfBDV53S"
      },
      "execution_count": null,
      "outputs": []
    }
  ]
}
