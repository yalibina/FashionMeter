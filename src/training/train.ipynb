{
 "cells": [
  {
   "cell_type": "code",
   "execution_count": null,
   "id": "dcb7432b",
   "metadata": {},
   "outputs": [],
   "source": [
    "import yaml\n",
    "import os\n",
    "import pytorch_lightning as pl\n",
    "from pytorch_lightning.loggers import WandbLogger\n",
    "import wandb\n",
    "from src.dataload.dataset import (\n",
    "    train_dataloader,\n",
    "    val_dataloader,\n",
    "    class_weights,\n",
    "    ids2label,\n",
    "    label2ids,\n",
    "    NUM_LABELS\n",
    ")\n",
    "from src.models.vit import LitViT"
   ]
  },
  {
   "cell_type": "code",
   "execution_count": null,
   "id": "a97fb084",
   "metadata": {},
   "outputs": [],
   "source": [
    "with open('config.yaml', 'r') as f:\n",
    "    config = yaml.safe_load(f)\n",
    "\n",
    "N_EPOCHS = config['N_EPOCHS']\n",
    "LR = config['LR']\n",
    "WD = config['WD']\n",
    "CHECKPOINT_DIR = config['CHECKPOINT_DIR']\n",
    "PROJECT_NAME = config['PROJECT_NAME']\n",
    "\n",
    "wandb_logger = WandbLogger(\n",
    "    project=PROJECT_NAME,\n",
    "    name=f'{N_EPOCHS}epochs_lr{LR}_wd{WD}',\n",
    "    checkpoint_name=f'{N_EPOCHS}epochs_lr{LR}_wd{WD}',\n",
    "    log_model=True\n",
    ")\n"
   ]
  },
  {
   "cell_type": "code",
   "execution_count": null,
   "id": "1f316870",
   "metadata": {},
   "outputs": [],
   "source": [
    "\n",
    "trainer = pl.Trainer(\n",
    "    logger=wandb_logger,\n",
    "    log_every_n_steps=10,\n",
    "    max_epochs=N_EPOCHS,\n",
    "    deterministic=True,\n",
    "    default_root_dir=CHECKPOINT_DIR,\n",
    "    precision=\"16-mixed\",\n",
    ")\n",
    "\n",
    "model = LitViT(\n",
    "    num_labels=NUM_LABELS,\n",
    "    id2label=ids2label,\n",
    "    label2id=label2ids,\n",
    "    class_weights=class_weights,\n",
    "    lr=LR,\n",
    "    weight_decay=WD\n",
    ")\n",
    "\n",
    "trainer.fit(model, train_dataloaders=train_dataloader, val_dataloaders=val_dataloader)\n",
    "\n",
    "wandb.finish()"
   ]
  }
 ],
 "metadata": {
  "kernelspec": {
   "display_name": "ML2",
   "language": "python",
   "name": "python3"
  },
  "language_info": {
   "name": "python",
   "version": "3.10.16"
  }
 },
 "nbformat": 4,
 "nbformat_minor": 5
}
