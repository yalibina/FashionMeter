{
  "cells": [
    {
      "cell_type": "code",
      "execution_count": null,
      "metadata": {
        "id": "QwfNeivsRFz2"
      },
      "outputs": [],
      "source": [
        "!git clone https://github.com/yalibina/FashionMeter.git"
      ]
    },
    {
      "cell_type": "code",
      "execution_count": null,
      "metadata": {
        "id": "6wSyUcm_S6qk",
        "collapsed": true
      },
      "outputs": [],
      "source": [
        "!cd FashionMeter && pip install -r requirements.txt"
      ]
    },
    {
      "cell_type": "code",
      "execution_count": null,
      "metadata": {
        "id": "JFrygqDtTjpf",
        "collapsed": true
      },
      "outputs": [],
      "source": [
        "!cd FashionMeter/src/dataload &&  ./download.sh"
      ]
    },
    {
      "cell_type": "code",
      "source": [
        "!pwd\n",
        "!ls"
      ],
      "metadata": {
        "id": "Kk0C5f47WR5i"
      },
      "execution_count": null,
      "outputs": []
    },
    {
      "cell_type": "code",
      "execution_count": null,
      "metadata": {
        "id": "CfgAuNlZSWfx"
      },
      "outputs": [],
      "source": [
        "import yaml\n",
        "import os\n",
        "import pytorch_lightning as pl\n",
        "from pytorch_lightning.loggers import WandbLogger\n",
        "import wandb\n",
        "from src.dataload.dataset import (\n",
        "    train_dataloader,\n",
        "    val_dataloader,\n",
        "    class_weights,\n",
        "    ids2label,\n",
        "    label2ids,\n",
        "    NUM_LABELS\n",
        ")\n",
        "from src.models.vit import LitViT\n"
      ]
    },
    {
      "cell_type": "code",
      "source": [
        "pl.seed_everything(42, workers=True)"
      ],
      "metadata": {
        "id": "glCY4FJ5PzzV"
      },
      "execution_count": null,
      "outputs": []
    },
    {
      "cell_type": "code",
      "source": [
        "%cd FashionMeter"
      ],
      "metadata": {
        "id": "pNbdu3x-dQ3P"
      },
      "execution_count": null,
      "outputs": []
    },
    {
      "cell_type": "code",
      "source": [
        "!ls"
      ],
      "metadata": {
        "id": "KjflafiMW7TA"
      },
      "execution_count": null,
      "outputs": []
    },
    {
      "cell_type": "code",
      "source": [
        "with open('config.yaml', 'r') as f:\n",
        "    config = yaml.safe_load(f)"
      ],
      "metadata": {
        "id": "7Vn9wRBvVjjr"
      },
      "execution_count": null,
      "outputs": []
    },
    {
      "cell_type": "code",
      "source": [
        "N_EPOCHS = config['N_EPOCHS']\n",
        "LR = config['LR']\n",
        "WD = config['WD']\n",
        "CHECKPOINT_DIR = config['CHECKPOINT_DIR']\n",
        "PROJECT_NAME = config['PROJECT_NAME']\n",
        "MODEL_NAME = config['MODEL_NAME']\n",
        "\n",
        "print(config)"
      ],
      "metadata": {
        "id": "2DOUh19lVlRK"
      },
      "execution_count": null,
      "outputs": []
    },
    {
      "cell_type": "code",
      "source": [
        "wandb.init(entity='mmls05', name=f'{N_EPOCHS}epochs_lr{LR}_wd{WD}',)"
      ],
      "metadata": {
        "id": "mPmP5T70Nsm0"
      },
      "execution_count": null,
      "outputs": []
    },
    {
      "cell_type": "code",
      "source": [
        "wandb_logger = WandbLogger(\n",
        "    project=PROJECT_NAME,\n",
        "    checkpoint_name=f'{N_EPOCHS}epochs_lr{LR}_wd{WD}',\n",
        "    log_model=True\n",
        ")\n",
        "\n",
        "trainer = pl.Trainer(\n",
        "    logger=wandb_logger,\n",
        "    log_every_n_steps=10,\n",
        "    max_epochs=N_EPOCHS,\n",
        "    deterministic=True,\n",
        "    default_root_dir=CHECKPOINT_DIR,\n",
        "    precision=\"16-mixed\",\n",
        ")\n"
      ],
      "metadata": {
        "id": "K3zCAFz-VnIm"
      },
      "execution_count": null,
      "outputs": []
    },
    {
      "cell_type": "code",
      "source": [
        "model = LitViT(\n",
        "    num_labels=NUM_LABELS,\n",
        "    id2label=ids2label,\n",
        "    label2id=label2ids,\n",
        "    class_weights=class_weights,\n",
        "    lr=LR,\n",
        "    weight_decay=WD,\n",
        "    model_name=MODEL_NAME\n",
        ")"
      ],
      "metadata": {
        "id": "gA_WYqu-VoOV"
      },
      "execution_count": null,
      "outputs": []
    },
    {
      "cell_type": "code",
      "source": [
        "trainer.fit(model, train_dataloaders=train_dataloader, val_dataloaders=val_dataloader)\n",
        "\n",
        "wandb.finish()"
      ],
      "metadata": {
        "id": "D7j4xDY9VhTa"
      },
      "execution_count": null,
      "outputs": []
    },
    {
      "cell_type": "code",
      "source": [],
      "metadata": {
        "id": "tVe-cONrXMUK"
      },
      "execution_count": null,
      "outputs": []
    }
  ],
  "metadata": {
    "colab": {
      "provenance": [],
      "gpuType": "T4"
    },
    "kernelspec": {
      "display_name": "Python 3",
      "name": "python3"
    },
    "language_info": {
      "name": "python"
    },
    "accelerator": "GPU"
  },
  "nbformat": 4,
  "nbformat_minor": 0
}