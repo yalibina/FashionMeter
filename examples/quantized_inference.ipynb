{
  "cells": [
    {
      "cell_type": "code",
      "execution_count": null,
      "metadata": {
        "id": "QwfNeivsRFz2"
      },
      "outputs": [],
      "source": [
        "%cd ..\n",
        "!rm -rf FashionMeter/\n",
        "!git clone https://github.com/yalibina/FashionMeter.git"
      ]
    },
    {
      "cell_type": "code",
      "execution_count": null,
      "metadata": {
        "collapsed": true,
        "id": "6wSyUcm_S6qk"
      },
      "outputs": [],
      "source": [
        "!cd FashionMeter && pip install -r requirements.txt"
      ]
    },
    {
      "cell_type": "code",
      "execution_count": null,
      "metadata": {
        "collapsed": true,
        "id": "JFrygqDtTjpf"
      },
      "outputs": [],
      "source": [
        "!cd FashionMeter/src/dataload &&  ./download.sh"
      ]
    },
    {
      "cell_type": "code",
      "execution_count": null,
      "metadata": {
        "id": "Kk0C5f47WR5i"
      },
      "outputs": [],
      "source": [
        "!pwd\n",
        "!ls"
      ]
    },
    {
      "cell_type": "code",
      "execution_count": null,
      "metadata": {
        "id": "y_ICDTvRWWCs"
      },
      "outputs": [],
      "source": [
        "%cd FashionMeter"
      ]
    },
    {
      "cell_type": "code",
      "execution_count": null,
      "metadata": {
        "id": "CfgAuNlZSWfx"
      },
      "outputs": [],
      "source": [
        "import yaml\n",
        "import os\n",
        "import pytorch_lightning as pl\n",
        "from pytorch_lightning.loggers import WandbLogger\n",
        "import time\n",
        "from tqdm.notebook import tqdm\n",
        "import wandb\n",
        "import torch\n",
        "from src.dataload.dataset import (\n",
        "    train_dataloader,\n",
        "    val_dataloader,\n",
        "    class_weights,\n",
        "    ids2label,\n",
        "    label2ids,\n",
        "    NUM_LABELS\n",
        ")\n",
        "from src.models.vit import LitViT, LitViTQuantized\n",
        "from pytorch_lightning.utilities.model_summary import ModelSummary\n"
      ]
    },
    {
      "cell_type": "code",
      "execution_count": null,
      "metadata": {
        "id": "BpEdCXqIy9Oh"
      },
      "outputs": [],
      "source": [
        "pl.seed_everything(42)"
      ]
    },
    {
      "cell_type": "code",
      "execution_count": null,
      "metadata": {
        "id": "pNbdu3x-dQ3P"
      },
      "outputs": [],
      "source": [
        "%cd FashionMeter"
      ]
    },
    {
      "cell_type": "code",
      "execution_count": null,
      "metadata": {
        "id": "KjflafiMW7TA"
      },
      "outputs": [],
      "source": [
        "!ls"
      ]
    },
    {
      "cell_type": "code",
      "execution_count": null,
      "metadata": {
        "id": "7Vn9wRBvVjjr"
      },
      "outputs": [],
      "source": [
        "with open('config.yaml', 'r') as f:\n",
        "    config = yaml.safe_load(f)"
      ]
    },
    {
      "cell_type": "code",
      "execution_count": null,
      "metadata": {
        "id": "2DOUh19lVlRK"
      },
      "outputs": [],
      "source": [
        "N_EPOCHS = config['N_EPOCHS']\n",
        "LR = config['LR']\n",
        "WD = config['WD']\n",
        "CHECKPOINT_DIR = config['CHECKPOINT_DIR']\n",
        "PROJECT_NAME = config['PROJECT_NAME']\n",
        "MODEL_NAME = config['MODEL_NAME']\n",
        "\n",
        "print(config)"
      ]
    },
    {
      "cell_type": "code",
      "execution_count": null,
      "metadata": {
        "id": "-H4EajROusXv"
      },
      "outputs": [],
      "source": [
        "run = wandb.init()\n",
        "artifact = run.use_artifact('mmls05/FashionMeter/10epochs_lr1e-05_wd0.01:v0', type='model')\n",
        "artifact_dir = artifact.download()"
      ]
    },
    {
      "cell_type": "markdown",
      "metadata": {
        "id": "9dZLHMWJzP8L"
      },
      "source": [
        "## Evaluate base model"
      ]
    },
    {
      "cell_type": "code",
      "execution_count": null,
      "metadata": {
        "id": "ydLHy3cFuKBw"
      },
      "outputs": [],
      "source": [
        "lit_model = LitViT(\n",
        "    num_labels=NUM_LABELS,\n",
        "    id2label=ids2label,\n",
        "    label2id=label2ids,\n",
        "    class_weights=class_weights,\n",
        "    lr=LR,\n",
        "    weight_decay=WD,\n",
        ")\n",
        "lit_model.load_state_dict(torch.load('/content/FashionMeter/artifacts/10epochs_lr1e-05_wd0.01:v0/model.ckpt')['state_dict'])"
      ]
    },
    {
      "cell_type": "code",
      "execution_count": null,
      "metadata": {
        "id": "ZUitFj06vA3A"
      },
      "outputs": [],
      "source": [
        "lit_model.to('cuda')\n",
        "lit_model.eval()\n",
        "all_preds = []\n",
        "all_labels = []\n",
        "torch.manual_seed(42)\n",
        "start = time.time()\n",
        "with torch.no_grad():\n",
        "    for batch in tqdm(val_dataloader):\n",
        "        pixel_values = batch['pixel_values'].to(lit_model.device)\n",
        "        labels = batch['labels'].to(lit_model.device)\n",
        "        logits = lit_model(pixel_values)\n",
        "        preds = torch.argmax(logits, dim=1)\n",
        "\n",
        "        all_preds.extend(preds.cpu().numpy())\n",
        "        all_labels.extend(labels.cpu().numpy())\n",
        "\n",
        "end = time.time()\n",
        "\n",
        "print(\"Time for inference:\", end - start)\n",
        "\n",
        "from sklearn.metrics import classification_report\n",
        "print(classification_report(all_labels, all_preds))"
      ]
    },
    {
      "cell_type": "markdown",
      "metadata": {
        "id": "JMstG1svzVo_"
      },
      "source": [
        "## Evaluate quantization"
      ]
    },
    {
      "cell_type": "code",
      "execution_count": null,
      "metadata": {
        "id": "jJglpfBeYKIy"
      },
      "outputs": [],
      "source": [
        "lit_model = LitViT(\n",
        "    num_labels=NUM_LABELS,\n",
        "    id2label=ids2label,\n",
        "    label2id=label2ids,\n",
        "    class_weights=class_weights,\n",
        "    lr=LR,\n",
        "    weight_decay=WD,\n",
        ")\n",
        "lit_model.load_state_dict(torch.load('/content/FashionMeter/artifacts/10epochs_lr1e-05_wd0.01:v0/model.ckpt')['state_dict'])\n",
        "\n",
        "hf_model = lit_model.vit\n",
        "\n",
        "quantized_model = torch.quantization.quantize_dynamic(hf_model, {torch.nn.Linear}, dtype=torch.qint8)\n",
        "\n",
        "lit_quant = LitViTQuantized(quantized_model=quantized_model, num_labels=lit_model.num_labels)\n"
      ]
    },
    {
      "cell_type": "code",
      "execution_count": null,
      "metadata": {
        "id": "t0EDeq8Ld_Zx"
      },
      "outputs": [],
      "source": [
        "lit_quant.device"
      ]
    },
    {
      "cell_type": "code",
      "execution_count": null,
      "metadata": {
        "id": "CjA_7EP3YgYJ"
      },
      "outputs": [],
      "source": [
        "ModelSummary(lit_quant)"
      ]
    },
    {
      "cell_type": "code",
      "execution_count": null,
      "metadata": {
        "id": "tVe-cONrXMUK"
      },
      "outputs": [],
      "source": [
        "lit_quant.eval()\n",
        "all_preds = []\n",
        "all_labels = []\n",
        "torch.manual_seed(42)\n",
        "start = time.time()\n",
        "with torch.no_grad():\n",
        "    for batch in tqdm(val_dataloader):\n",
        "        pixel_values = batch['pixel_values'].to(lit_quant.device)\n",
        "        labels = batch['labels'].to(lit_quant.device)\n",
        "        logits = lit_quant(pixel_values)\n",
        "        preds = torch.argmax(logits, dim=1)\n",
        "\n",
        "        all_preds.extend(preds.cpu().numpy())\n",
        "        all_labels.extend(labels.cpu().numpy())\n",
        "\n",
        "end = time.time()\n",
        "\n",
        "print(\"Time for inference:\", end - start)\n",
        "\n",
        "# Optionally: evaluate\n",
        "from sklearn.metrics import classification_report\n",
        "print(classification_report(all_labels, all_preds))"
      ]
    },
    {
      "cell_type": "code",
      "execution_count": null,
      "metadata": {
        "id": "XgR2FM53yXSQ"
      },
      "outputs": [],
      "source": [
        "torch.save(lit_quant, \"lit_vit_quantized_full.pth\")"
      ]
    },
    {
      "cell_type": "code",
      "execution_count": null,
      "metadata": {
        "id": "44wL8FxgictG"
      },
      "outputs": [],
      "source": []
    }
  ],
  "metadata": {
    "accelerator": "GPU",
    "colab": {
      "gpuType": "T4",
      "provenance": []
    },
    "kernelspec": {
      "display_name": "Python 3",
      "name": "python3"
    },
    "language_info": {
      "name": "python"
    }
  },
  "nbformat": 4,
  "nbformat_minor": 0
}
