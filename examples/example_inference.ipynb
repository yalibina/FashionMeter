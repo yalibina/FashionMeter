{
 "cells": [
  {
   "cell_type": "markdown",
   "id": "58df933d",
   "metadata": {},
   "source": [
    "# Inference Example\n",
    "This notebook demonstrates how to load a trained ViT model and perform inference on a single image."
   ]
  },
  {
   "cell_type": "code",
   "execution_count": null,
   "id": "65386bbe",
   "metadata": {},
   "outputs": [],
   "source": [
    "from PIL import Image\n",
    "import torch\n",
    "from src.models.vit import LitViT\n",
    "from src.dataload.dataset import feature_extractor, ids2label\n",
    "\n",
    "# Path to your trained checkpoint\n",
    "path_to_checkpoint = '/path/to/checkpoint.ckpt'  # Update this path\n",
    "\n",
    "# Load the trained model\n",
    "model = LitViT.load_from_checkpoint(path_to_checkpoint,\n",
    "    num_labels=len(ids2label),\n",
    "    id2label=ids2label,\n",
    "    label2id={v: k for k, v in ids2label.items()},\n",
    "    class_weights=torch.ones(len(ids2label))\n",
    ")\n",
    "model.eval()\n",
    "\n",
    "# Load and preprocess the image\n",
    "image = Image.open('test_casual.jpg').convert('RGB')\n",
    "inputs = feature_extractor(images=image, return_tensors='pt')\n",
    "\n",
    "# Run inference\n",
    "with torch.no_grad():\n",
    "    outputs = model(inputs['pixel_values'])\n",
    "    predicted_class_idx = outputs.argmax(-1).item()\n",
    "\n",
    "predicted_label = ids2label[predicted_class_idx]\n",
    "print(f'Predicted style: {predicted_label}')"
   ]
  }
 ],
 "metadata": {
  "language_info": {
   "name": "python"
  }
 },
 "nbformat": 4,
 "nbformat_minor": 5
}
